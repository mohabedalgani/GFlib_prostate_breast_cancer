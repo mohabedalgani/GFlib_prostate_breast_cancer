{
 "cells": [
  {
   "cell_type": "markdown",
   "id": "33cd0795",
   "metadata": {
    "_kg_hide-input": false,
    "papermill": {
     "duration": 0.02083,
     "end_time": "2021-11-13T18:56:14.329064",
     "exception": false,
     "start_time": "2021-11-13T18:56:14.308234",
     "status": "completed"
    },
    "tags": []
   },
   "source": [
    "# <html>\n",
    "<div  style=\"background-color:w; color:#636363;border:#63b365; border-width:5px;border-radius:10px 10px; border-style:solid;\">\n",
    "\n",
    "    \n",
    "<p><center><img src=\"https://drive.google.com/thumbnail?id=1yPGYO8HkTanlqsIXozDIUvUVuvawAdG_\" width =\"6%\"  /><font size=8> <b>Lung Cancer Prediction</b></font> </p>\n",
    "\n",
    "\n",
    "</div>"
   ]
  },
  {
   "cell_type": "markdown",
   "id": "084cfc76",
   "metadata": {
    "papermill": {
     "duration": 0.01886,
     "end_time": "2021-11-13T18:56:14.367360",
     "exception": false,
     "start_time": "2021-11-13T18:56:14.348500",
     "status": "completed"
    },
    "tags": []
   },
   "source": [
    "# <span style=\"color:#32936f;\"> <center>Libraries </span>"
   ]
  },
  {
   "cell_type": "code",
   "execution_count": 2,
   "id": "050f0e23",
   "metadata": {
    "execution": {
     "iopub.execute_input": "2021-11-13T18:56:14.411453Z",
     "iopub.status.busy": "2021-11-13T18:56:14.409695Z",
     "iopub.status.idle": "2021-11-13T18:56:16.802402Z",
     "shell.execute_reply": "2021-11-13T18:56:16.801690Z",
     "shell.execute_reply.started": "2021-11-13T18:40:53.690656Z"
    },
    "papermill": {
     "duration": 2.416347,
     "end_time": "2021-11-13T18:56:16.802597",
     "exception": false,
     "start_time": "2021-11-13T18:56:14.386250",
     "status": "completed"
    },
    "tags": []
   },
   "outputs": [],
   "source": [
    "# Data Manipulation:\n",
    "import pandas as pd\n",
    "import matplotlib as mpl\n",
    "#import seaborn as sns \n",
    "\n",
    "\n",
    "\n",
    "# Visualization:\n",
    "import matplotlib.pyplot as plt\n",
    "#import plotly.express as px\n",
    "\n",
    "# Data tratament :\n",
    "from sklearn.preprocessing import StandardScaler \n",
    "from collections import Counter\n",
    "from sklearn.model_selection import train_test_split\n",
    "\n",
    "# Models:\n",
    "from sklearn.linear_model import LogisticRegression,RidgeClassifier,SGDClassifier,PassiveAggressiveClassifier\n",
    "from sklearn.linear_model import Perceptron\n",
    "from sklearn.svm import SVC,LinearSVC,NuSVC\n",
    "from sklearn.neighbors import KNeighborsClassifier,NearestCentroid\n",
    "from sklearn.tree import DecisionTreeClassifier\n",
    "from sklearn.ensemble import RandomForestClassifier,AdaBoostClassifier,GradientBoostingClassifier\n",
    "from sklearn.naive_bayes import GaussianNB,BernoulliNB\n",
    "from sklearn.ensemble import VotingClassifier\n",
    "\n",
    "# Evolution:\n",
    "from sklearn.metrics import precision_score,accuracy_score\n",
    "from sklearn.model_selection import RandomizedSearchCV,GridSearchCV,RepeatedStratifiedKFold"
   ]
  },
  {
   "cell_type": "markdown",
   "id": "6573637b",
   "metadata": {
    "papermill": {
     "duration": 0.018926,
     "end_time": "2021-11-13T18:56:16.840882",
     "exception": false,
     "start_time": "2021-11-13T18:56:16.821956",
     "status": "completed"
    },
    "tags": []
   },
   "source": [
    "# <span style=\"color:#32936f;\"> <center>Importing Dataset </span>"
   ]
  },
  {
   "cell_type": "code",
   "execution_count": 7,
   "id": "e1e3b8be",
   "metadata": {
    "execution": {
     "iopub.execute_input": "2021-11-13T18:56:16.883174Z",
     "iopub.status.busy": "2021-11-13T18:56:16.882148Z",
     "iopub.status.idle": "2021-11-13T18:56:16.926852Z",
     "shell.execute_reply": "2021-11-13T18:56:16.925828Z",
     "shell.execute_reply.started": "2021-11-13T18:40:58.425219Z"
    },
    "papermill": {
     "duration": 0.06698,
     "end_time": "2021-11-13T18:56:16.927008",
     "exception": false,
     "start_time": "2021-11-13T18:56:16.860028",
     "status": "completed"
    },
    "tags": []
   },
   "outputs": [
    {
     "ename": "OSError",
     "evalue": "[Errno 22] Invalid argument: '\\\\data\\x08inary\\\\survey_lung_cancer.csv'",
     "output_type": "error",
     "traceback": [
      "\u001b[1;31m---------------------------------------------------------------------------\u001b[0m",
      "\u001b[1;31mOSError\u001b[0m                                   Traceback (most recent call last)",
      "\u001b[1;32mC:\\Users\\Public\\Documents\\Wondershare\\CreatorTemp/ipykernel_15512/2738066481.py\u001b[0m in \u001b[0;36m<module>\u001b[1;34m\u001b[0m\n\u001b[0;32m      1\u001b[0m \u001b[1;31m#data = pd.read_csv(\"data/binary/survey lung cancer.csv\")\u001b[0m\u001b[1;33m\u001b[0m\u001b[1;33m\u001b[0m\u001b[1;33m\u001b[0m\u001b[0m\n\u001b[0;32m      2\u001b[0m \u001b[1;31m#'data/binary/Prostate_Cancer.csv'\u001b[0m\u001b[1;33m\u001b[0m\u001b[1;33m\u001b[0m\u001b[1;33m\u001b[0m\u001b[0m\n\u001b[1;32m----> 3\u001b[1;33m \u001b[0mdata\u001b[0m \u001b[1;33m=\u001b[0m \u001b[0mpd\u001b[0m\u001b[1;33m.\u001b[0m\u001b[0mread_csv\u001b[0m\u001b[1;33m(\u001b[0m\u001b[1;34m'\\data\\binary\\survey_lung_cancer.csv'\u001b[0m\u001b[1;33m)\u001b[0m\u001b[1;33m\u001b[0m\u001b[1;33m\u001b[0m\u001b[0m\n\u001b[0m\u001b[0;32m      4\u001b[0m \u001b[0mdata\u001b[0m\u001b[1;33m.\u001b[0m\u001b[0mhead\u001b[0m\u001b[1;33m(\u001b[0m\u001b[1;33m)\u001b[0m\u001b[1;33m\u001b[0m\u001b[1;33m\u001b[0m\u001b[0m\n",
      "\u001b[1;32m~\\AppData\\Local\\Programs\\Python\\Python39\\lib\\site-packages\\pandas\\io\\parsers.py\u001b[0m in \u001b[0;36mread_csv\u001b[1;34m(filepath_or_buffer, sep, delimiter, header, names, index_col, usecols, squeeze, prefix, mangle_dupe_cols, dtype, engine, converters, true_values, false_values, skipinitialspace, skiprows, skipfooter, nrows, na_values, keep_default_na, na_filter, verbose, skip_blank_lines, parse_dates, infer_datetime_format, keep_date_col, date_parser, dayfirst, cache_dates, iterator, chunksize, compression, thousands, decimal, lineterminator, quotechar, quoting, doublequote, escapechar, comment, encoding, dialect, error_bad_lines, warn_bad_lines, delim_whitespace, low_memory, memory_map, float_precision, storage_options)\u001b[0m\n\u001b[0;32m    608\u001b[0m     \u001b[0mkwds\u001b[0m\u001b[1;33m.\u001b[0m\u001b[0mupdate\u001b[0m\u001b[1;33m(\u001b[0m\u001b[0mkwds_defaults\u001b[0m\u001b[1;33m)\u001b[0m\u001b[1;33m\u001b[0m\u001b[1;33m\u001b[0m\u001b[0m\n\u001b[0;32m    609\u001b[0m \u001b[1;33m\u001b[0m\u001b[0m\n\u001b[1;32m--> 610\u001b[1;33m     \u001b[1;32mreturn\u001b[0m \u001b[0m_read\u001b[0m\u001b[1;33m(\u001b[0m\u001b[0mfilepath_or_buffer\u001b[0m\u001b[1;33m,\u001b[0m \u001b[0mkwds\u001b[0m\u001b[1;33m)\u001b[0m\u001b[1;33m\u001b[0m\u001b[1;33m\u001b[0m\u001b[0m\n\u001b[0m\u001b[0;32m    611\u001b[0m \u001b[1;33m\u001b[0m\u001b[0m\n\u001b[0;32m    612\u001b[0m \u001b[1;33m\u001b[0m\u001b[0m\n",
      "\u001b[1;32m~\\AppData\\Local\\Programs\\Python\\Python39\\lib\\site-packages\\pandas\\io\\parsers.py\u001b[0m in \u001b[0;36m_read\u001b[1;34m(filepath_or_buffer, kwds)\u001b[0m\n\u001b[0;32m    460\u001b[0m \u001b[1;33m\u001b[0m\u001b[0m\n\u001b[0;32m    461\u001b[0m     \u001b[1;31m# Create the parser.\u001b[0m\u001b[1;33m\u001b[0m\u001b[1;33m\u001b[0m\u001b[1;33m\u001b[0m\u001b[0m\n\u001b[1;32m--> 462\u001b[1;33m     \u001b[0mparser\u001b[0m \u001b[1;33m=\u001b[0m \u001b[0mTextFileReader\u001b[0m\u001b[1;33m(\u001b[0m\u001b[0mfilepath_or_buffer\u001b[0m\u001b[1;33m,\u001b[0m \u001b[1;33m**\u001b[0m\u001b[0mkwds\u001b[0m\u001b[1;33m)\u001b[0m\u001b[1;33m\u001b[0m\u001b[1;33m\u001b[0m\u001b[0m\n\u001b[0m\u001b[0;32m    463\u001b[0m \u001b[1;33m\u001b[0m\u001b[0m\n\u001b[0;32m    464\u001b[0m     \u001b[1;32mif\u001b[0m \u001b[0mchunksize\u001b[0m \u001b[1;32mor\u001b[0m \u001b[0miterator\u001b[0m\u001b[1;33m:\u001b[0m\u001b[1;33m\u001b[0m\u001b[1;33m\u001b[0m\u001b[0m\n",
      "\u001b[1;32m~\\AppData\\Local\\Programs\\Python\\Python39\\lib\\site-packages\\pandas\\io\\parsers.py\u001b[0m in \u001b[0;36m__init__\u001b[1;34m(self, f, engine, **kwds)\u001b[0m\n\u001b[0;32m    817\u001b[0m             \u001b[0mself\u001b[0m\u001b[1;33m.\u001b[0m\u001b[0moptions\u001b[0m\u001b[1;33m[\u001b[0m\u001b[1;34m\"has_index_names\"\u001b[0m\u001b[1;33m]\u001b[0m \u001b[1;33m=\u001b[0m \u001b[0mkwds\u001b[0m\u001b[1;33m[\u001b[0m\u001b[1;34m\"has_index_names\"\u001b[0m\u001b[1;33m]\u001b[0m\u001b[1;33m\u001b[0m\u001b[1;33m\u001b[0m\u001b[0m\n\u001b[0;32m    818\u001b[0m \u001b[1;33m\u001b[0m\u001b[0m\n\u001b[1;32m--> 819\u001b[1;33m         \u001b[0mself\u001b[0m\u001b[1;33m.\u001b[0m\u001b[0m_engine\u001b[0m \u001b[1;33m=\u001b[0m \u001b[0mself\u001b[0m\u001b[1;33m.\u001b[0m\u001b[0m_make_engine\u001b[0m\u001b[1;33m(\u001b[0m\u001b[0mself\u001b[0m\u001b[1;33m.\u001b[0m\u001b[0mengine\u001b[0m\u001b[1;33m)\u001b[0m\u001b[1;33m\u001b[0m\u001b[1;33m\u001b[0m\u001b[0m\n\u001b[0m\u001b[0;32m    820\u001b[0m \u001b[1;33m\u001b[0m\u001b[0m\n\u001b[0;32m    821\u001b[0m     \u001b[1;32mdef\u001b[0m \u001b[0mclose\u001b[0m\u001b[1;33m(\u001b[0m\u001b[0mself\u001b[0m\u001b[1;33m)\u001b[0m\u001b[1;33m:\u001b[0m\u001b[1;33m\u001b[0m\u001b[1;33m\u001b[0m\u001b[0m\n",
      "\u001b[1;32m~\\AppData\\Local\\Programs\\Python\\Python39\\lib\\site-packages\\pandas\\io\\parsers.py\u001b[0m in \u001b[0;36m_make_engine\u001b[1;34m(self, engine)\u001b[0m\n\u001b[0;32m   1048\u001b[0m             )\n\u001b[0;32m   1049\u001b[0m         \u001b[1;31m# error: Too many arguments for \"ParserBase\"\u001b[0m\u001b[1;33m\u001b[0m\u001b[1;33m\u001b[0m\u001b[1;33m\u001b[0m\u001b[0m\n\u001b[1;32m-> 1050\u001b[1;33m         \u001b[1;32mreturn\u001b[0m \u001b[0mmapping\u001b[0m\u001b[1;33m[\u001b[0m\u001b[0mengine\u001b[0m\u001b[1;33m]\u001b[0m\u001b[1;33m(\u001b[0m\u001b[0mself\u001b[0m\u001b[1;33m.\u001b[0m\u001b[0mf\u001b[0m\u001b[1;33m,\u001b[0m \u001b[1;33m**\u001b[0m\u001b[0mself\u001b[0m\u001b[1;33m.\u001b[0m\u001b[0moptions\u001b[0m\u001b[1;33m)\u001b[0m  \u001b[1;31m# type: ignore[call-arg]\u001b[0m\u001b[1;33m\u001b[0m\u001b[1;33m\u001b[0m\u001b[0m\n\u001b[0m\u001b[0;32m   1051\u001b[0m \u001b[1;33m\u001b[0m\u001b[0m\n\u001b[0;32m   1052\u001b[0m     \u001b[1;32mdef\u001b[0m \u001b[0m_failover_to_python\u001b[0m\u001b[1;33m(\u001b[0m\u001b[0mself\u001b[0m\u001b[1;33m)\u001b[0m\u001b[1;33m:\u001b[0m\u001b[1;33m\u001b[0m\u001b[1;33m\u001b[0m\u001b[0m\n",
      "\u001b[1;32m~\\AppData\\Local\\Programs\\Python\\Python39\\lib\\site-packages\\pandas\\io\\parsers.py\u001b[0m in \u001b[0;36m__init__\u001b[1;34m(self, src, **kwds)\u001b[0m\n\u001b[0;32m   1865\u001b[0m \u001b[1;33m\u001b[0m\u001b[0m\n\u001b[0;32m   1866\u001b[0m         \u001b[1;31m# open handles\u001b[0m\u001b[1;33m\u001b[0m\u001b[1;33m\u001b[0m\u001b[1;33m\u001b[0m\u001b[0m\n\u001b[1;32m-> 1867\u001b[1;33m         \u001b[0mself\u001b[0m\u001b[1;33m.\u001b[0m\u001b[0m_open_handles\u001b[0m\u001b[1;33m(\u001b[0m\u001b[0msrc\u001b[0m\u001b[1;33m,\u001b[0m \u001b[0mkwds\u001b[0m\u001b[1;33m)\u001b[0m\u001b[1;33m\u001b[0m\u001b[1;33m\u001b[0m\u001b[0m\n\u001b[0m\u001b[0;32m   1868\u001b[0m         \u001b[1;32massert\u001b[0m \u001b[0mself\u001b[0m\u001b[1;33m.\u001b[0m\u001b[0mhandles\u001b[0m \u001b[1;32mis\u001b[0m \u001b[1;32mnot\u001b[0m \u001b[1;32mNone\u001b[0m\u001b[1;33m\u001b[0m\u001b[1;33m\u001b[0m\u001b[0m\n\u001b[0;32m   1869\u001b[0m         \u001b[1;32mfor\u001b[0m \u001b[0mkey\u001b[0m \u001b[1;32min\u001b[0m \u001b[1;33m(\u001b[0m\u001b[1;34m\"storage_options\"\u001b[0m\u001b[1;33m,\u001b[0m \u001b[1;34m\"encoding\"\u001b[0m\u001b[1;33m,\u001b[0m \u001b[1;34m\"memory_map\"\u001b[0m\u001b[1;33m,\u001b[0m \u001b[1;34m\"compression\"\u001b[0m\u001b[1;33m)\u001b[0m\u001b[1;33m:\u001b[0m\u001b[1;33m\u001b[0m\u001b[1;33m\u001b[0m\u001b[0m\n",
      "\u001b[1;32m~\\AppData\\Local\\Programs\\Python\\Python39\\lib\\site-packages\\pandas\\io\\parsers.py\u001b[0m in \u001b[0;36m_open_handles\u001b[1;34m(self, src, kwds)\u001b[0m\n\u001b[0;32m   1360\u001b[0m         \u001b[0mLet\u001b[0m \u001b[0mthe\u001b[0m \u001b[0mreaders\u001b[0m \u001b[0mopen\u001b[0m \u001b[0mIOHanldes\u001b[0m \u001b[0mafter\u001b[0m \u001b[0mthey\u001b[0m \u001b[0mare\u001b[0m \u001b[0mdone\u001b[0m \u001b[1;32mwith\u001b[0m \u001b[0mtheir\u001b[0m \u001b[0mpotential\u001b[0m \u001b[0mraises\u001b[0m\u001b[1;33m.\u001b[0m\u001b[1;33m\u001b[0m\u001b[1;33m\u001b[0m\u001b[0m\n\u001b[0;32m   1361\u001b[0m         \"\"\"\n\u001b[1;32m-> 1362\u001b[1;33m         self.handles = get_handle(\n\u001b[0m\u001b[0;32m   1363\u001b[0m             \u001b[0msrc\u001b[0m\u001b[1;33m,\u001b[0m\u001b[1;33m\u001b[0m\u001b[1;33m\u001b[0m\u001b[0m\n\u001b[0;32m   1364\u001b[0m             \u001b[1;34m\"r\"\u001b[0m\u001b[1;33m,\u001b[0m\u001b[1;33m\u001b[0m\u001b[1;33m\u001b[0m\u001b[0m\n",
      "\u001b[1;32m~\\AppData\\Local\\Programs\\Python\\Python39\\lib\\site-packages\\pandas\\io\\common.py\u001b[0m in \u001b[0;36mget_handle\u001b[1;34m(path_or_buf, mode, encoding, compression, memory_map, is_text, errors, storage_options)\u001b[0m\n\u001b[0;32m    645\u001b[0m                 \u001b[0merrors\u001b[0m \u001b[1;33m=\u001b[0m \u001b[1;34m\"replace\"\u001b[0m\u001b[1;33m\u001b[0m\u001b[1;33m\u001b[0m\u001b[0m\n\u001b[0;32m    646\u001b[0m             \u001b[1;31m# Encoding\u001b[0m\u001b[1;33m\u001b[0m\u001b[1;33m\u001b[0m\u001b[1;33m\u001b[0m\u001b[0m\n\u001b[1;32m--> 647\u001b[1;33m             handle = open(\n\u001b[0m\u001b[0;32m    648\u001b[0m                 \u001b[0mhandle\u001b[0m\u001b[1;33m,\u001b[0m\u001b[1;33m\u001b[0m\u001b[1;33m\u001b[0m\u001b[0m\n\u001b[0;32m    649\u001b[0m                 \u001b[0mioargs\u001b[0m\u001b[1;33m.\u001b[0m\u001b[0mmode\u001b[0m\u001b[1;33m,\u001b[0m\u001b[1;33m\u001b[0m\u001b[1;33m\u001b[0m\u001b[0m\n",
      "\u001b[1;31mOSError\u001b[0m: [Errno 22] Invalid argument: '\\\\data\\x08inary\\\\survey_lung_cancer.csv'"
     ]
    }
   ],
   "source": [
    "#data = pd.read_csv(\"data/binary/survey lung cancer.csv\")\n",
    "#'data/binary/Prostate_Cancer.csv'\n",
    "data = pd.read_csv('data/binary/survey_lung_cancer.csv')\n",
    "data.head()"
   ]
  },
  {
   "cell_type": "code",
   "execution_count": 3,
   "id": "ee1e3178",
   "metadata": {
    "execution": {
     "iopub.execute_input": "2021-11-13T18:56:16.970172Z",
     "iopub.status.busy": "2021-11-13T18:56:16.969211Z",
     "iopub.status.idle": "2021-11-13T18:56:16.994046Z",
     "shell.execute_reply": "2021-11-13T18:56:16.994566Z",
     "shell.execute_reply.started": "2021-11-13T18:40:59.413828Z"
    },
    "papermill": {
     "duration": 0.047723,
     "end_time": "2021-11-13T18:56:16.994758",
     "exception": false,
     "start_time": "2021-11-13T18:56:16.947035",
     "status": "completed"
    },
    "tags": []
   },
   "outputs": [
    {
     "name": "stdout",
     "output_type": "stream",
     "text": [
      "<class 'pandas.core.frame.DataFrame'>\n",
      "RangeIndex: 309 entries, 0 to 308\n",
      "Data columns (total 16 columns):\n",
      " #   Column                 Non-Null Count  Dtype \n",
      "---  ------                 --------------  ----- \n",
      " 0   GENDER                 309 non-null    object\n",
      " 1   AGE                    309 non-null    int64 \n",
      " 2   SMOKING                309 non-null    int64 \n",
      " 3   YELLOW_FINGERS         309 non-null    int64 \n",
      " 4   ANXIETY                309 non-null    int64 \n",
      " 5   PEER_PRESSURE          309 non-null    int64 \n",
      " 6   CHRONIC DISEASE        309 non-null    int64 \n",
      " 7   FATIGUE                309 non-null    int64 \n",
      " 8   ALLERGY                309 non-null    int64 \n",
      " 9   WHEEZING               309 non-null    int64 \n",
      " 10  ALCOHOL CONSUMING      309 non-null    int64 \n",
      " 11  COUGHING               309 non-null    int64 \n",
      " 12  SHORTNESS OF BREATH    309 non-null    int64 \n",
      " 13  SWALLOWING DIFFICULTY  309 non-null    int64 \n",
      " 14  CHEST PAIN             309 non-null    int64 \n",
      " 15  LUNG_CANCER            309 non-null    object\n",
      "dtypes: int64(14), object(2)\n",
      "memory usage: 38.8+ KB\n"
     ]
    }
   ],
   "source": [
    "data.info()"
   ]
  },
  {
   "cell_type": "code",
   "execution_count": 4,
   "id": "68963869",
   "metadata": {
    "execution": {
     "iopub.execute_input": "2021-11-13T18:56:17.039194Z",
     "iopub.status.busy": "2021-11-13T18:56:17.038265Z",
     "iopub.status.idle": "2021-11-13T18:56:17.086591Z",
     "shell.execute_reply": "2021-11-13T18:56:17.087015Z",
     "shell.execute_reply.started": "2021-11-13T18:41:00.267665Z"
    },
    "papermill": {
     "duration": 0.07239,
     "end_time": "2021-11-13T18:56:17.087187",
     "exception": false,
     "start_time": "2021-11-13T18:56:17.014797",
     "status": "completed"
    },
    "tags": []
   },
   "outputs": [
    {
     "data": {
      "text/html": [
       "<div>\n",
       "<style scoped>\n",
       "    .dataframe tbody tr th:only-of-type {\n",
       "        vertical-align: middle;\n",
       "    }\n",
       "\n",
       "    .dataframe tbody tr th {\n",
       "        vertical-align: top;\n",
       "    }\n",
       "\n",
       "    .dataframe thead th {\n",
       "        text-align: right;\n",
       "    }\n",
       "</style>\n",
       "<table border=\"1\" class=\"dataframe\">\n",
       "  <thead>\n",
       "    <tr style=\"text-align: right;\">\n",
       "      <th></th>\n",
       "      <th>AGE</th>\n",
       "      <th>SMOKING</th>\n",
       "      <th>YELLOW_FINGERS</th>\n",
       "      <th>ANXIETY</th>\n",
       "      <th>PEER_PRESSURE</th>\n",
       "      <th>CHRONIC DISEASE</th>\n",
       "      <th>FATIGUE</th>\n",
       "      <th>ALLERGY</th>\n",
       "      <th>WHEEZING</th>\n",
       "      <th>ALCOHOL CONSUMING</th>\n",
       "      <th>COUGHING</th>\n",
       "      <th>SHORTNESS OF BREATH</th>\n",
       "      <th>SWALLOWING DIFFICULTY</th>\n",
       "      <th>CHEST PAIN</th>\n",
       "    </tr>\n",
       "  </thead>\n",
       "  <tbody>\n",
       "    <tr>\n",
       "      <th>count</th>\n",
       "      <td>309.000000</td>\n",
       "      <td>309.000000</td>\n",
       "      <td>309.000000</td>\n",
       "      <td>309.000000</td>\n",
       "      <td>309.000000</td>\n",
       "      <td>309.000000</td>\n",
       "      <td>309.000000</td>\n",
       "      <td>309.000000</td>\n",
       "      <td>309.000000</td>\n",
       "      <td>309.000000</td>\n",
       "      <td>309.000000</td>\n",
       "      <td>309.000000</td>\n",
       "      <td>309.000000</td>\n",
       "      <td>309.000000</td>\n",
       "    </tr>\n",
       "    <tr>\n",
       "      <th>mean</th>\n",
       "      <td>62.673139</td>\n",
       "      <td>1.563107</td>\n",
       "      <td>1.569579</td>\n",
       "      <td>1.498382</td>\n",
       "      <td>1.501618</td>\n",
       "      <td>1.504854</td>\n",
       "      <td>1.673139</td>\n",
       "      <td>1.556634</td>\n",
       "      <td>1.556634</td>\n",
       "      <td>1.556634</td>\n",
       "      <td>1.579288</td>\n",
       "      <td>1.640777</td>\n",
       "      <td>1.469256</td>\n",
       "      <td>1.556634</td>\n",
       "    </tr>\n",
       "    <tr>\n",
       "      <th>std</th>\n",
       "      <td>8.210301</td>\n",
       "      <td>0.496806</td>\n",
       "      <td>0.495938</td>\n",
       "      <td>0.500808</td>\n",
       "      <td>0.500808</td>\n",
       "      <td>0.500787</td>\n",
       "      <td>0.469827</td>\n",
       "      <td>0.497588</td>\n",
       "      <td>0.497588</td>\n",
       "      <td>0.497588</td>\n",
       "      <td>0.494474</td>\n",
       "      <td>0.480551</td>\n",
       "      <td>0.499863</td>\n",
       "      <td>0.497588</td>\n",
       "    </tr>\n",
       "    <tr>\n",
       "      <th>min</th>\n",
       "      <td>21.000000</td>\n",
       "      <td>1.000000</td>\n",
       "      <td>1.000000</td>\n",
       "      <td>1.000000</td>\n",
       "      <td>1.000000</td>\n",
       "      <td>1.000000</td>\n",
       "      <td>1.000000</td>\n",
       "      <td>1.000000</td>\n",
       "      <td>1.000000</td>\n",
       "      <td>1.000000</td>\n",
       "      <td>1.000000</td>\n",
       "      <td>1.000000</td>\n",
       "      <td>1.000000</td>\n",
       "      <td>1.000000</td>\n",
       "    </tr>\n",
       "    <tr>\n",
       "      <th>25%</th>\n",
       "      <td>57.000000</td>\n",
       "      <td>1.000000</td>\n",
       "      <td>1.000000</td>\n",
       "      <td>1.000000</td>\n",
       "      <td>1.000000</td>\n",
       "      <td>1.000000</td>\n",
       "      <td>1.000000</td>\n",
       "      <td>1.000000</td>\n",
       "      <td>1.000000</td>\n",
       "      <td>1.000000</td>\n",
       "      <td>1.000000</td>\n",
       "      <td>1.000000</td>\n",
       "      <td>1.000000</td>\n",
       "      <td>1.000000</td>\n",
       "    </tr>\n",
       "    <tr>\n",
       "      <th>50%</th>\n",
       "      <td>62.000000</td>\n",
       "      <td>2.000000</td>\n",
       "      <td>2.000000</td>\n",
       "      <td>1.000000</td>\n",
       "      <td>2.000000</td>\n",
       "      <td>2.000000</td>\n",
       "      <td>2.000000</td>\n",
       "      <td>2.000000</td>\n",
       "      <td>2.000000</td>\n",
       "      <td>2.000000</td>\n",
       "      <td>2.000000</td>\n",
       "      <td>2.000000</td>\n",
       "      <td>1.000000</td>\n",
       "      <td>2.000000</td>\n",
       "    </tr>\n",
       "    <tr>\n",
       "      <th>75%</th>\n",
       "      <td>69.000000</td>\n",
       "      <td>2.000000</td>\n",
       "      <td>2.000000</td>\n",
       "      <td>2.000000</td>\n",
       "      <td>2.000000</td>\n",
       "      <td>2.000000</td>\n",
       "      <td>2.000000</td>\n",
       "      <td>2.000000</td>\n",
       "      <td>2.000000</td>\n",
       "      <td>2.000000</td>\n",
       "      <td>2.000000</td>\n",
       "      <td>2.000000</td>\n",
       "      <td>2.000000</td>\n",
       "      <td>2.000000</td>\n",
       "    </tr>\n",
       "    <tr>\n",
       "      <th>max</th>\n",
       "      <td>87.000000</td>\n",
       "      <td>2.000000</td>\n",
       "      <td>2.000000</td>\n",
       "      <td>2.000000</td>\n",
       "      <td>2.000000</td>\n",
       "      <td>2.000000</td>\n",
       "      <td>2.000000</td>\n",
       "      <td>2.000000</td>\n",
       "      <td>2.000000</td>\n",
       "      <td>2.000000</td>\n",
       "      <td>2.000000</td>\n",
       "      <td>2.000000</td>\n",
       "      <td>2.000000</td>\n",
       "      <td>2.000000</td>\n",
       "    </tr>\n",
       "  </tbody>\n",
       "</table>\n",
       "</div>"
      ],
      "text/plain": [
       "              AGE     SMOKING  YELLOW_FINGERS     ANXIETY  PEER_PRESSURE  \\\n",
       "count  309.000000  309.000000      309.000000  309.000000     309.000000   \n",
       "mean    62.673139    1.563107        1.569579    1.498382       1.501618   \n",
       "std      8.210301    0.496806        0.495938    0.500808       0.500808   \n",
       "min     21.000000    1.000000        1.000000    1.000000       1.000000   \n",
       "25%     57.000000    1.000000        1.000000    1.000000       1.000000   \n",
       "50%     62.000000    2.000000        2.000000    1.000000       2.000000   \n",
       "75%     69.000000    2.000000        2.000000    2.000000       2.000000   \n",
       "max     87.000000    2.000000        2.000000    2.000000       2.000000   \n",
       "\n",
       "       CHRONIC DISEASE    FATIGUE     ALLERGY     WHEEZING  ALCOHOL CONSUMING  \\\n",
       "count       309.000000  309.000000  309.000000  309.000000         309.000000   \n",
       "mean          1.504854    1.673139    1.556634    1.556634           1.556634   \n",
       "std           0.500787    0.469827    0.497588    0.497588           0.497588   \n",
       "min           1.000000    1.000000    1.000000    1.000000           1.000000   \n",
       "25%           1.000000    1.000000    1.000000    1.000000           1.000000   \n",
       "50%           2.000000    2.000000    2.000000    2.000000           2.000000   \n",
       "75%           2.000000    2.000000    2.000000    2.000000           2.000000   \n",
       "max           2.000000    2.000000    2.000000    2.000000           2.000000   \n",
       "\n",
       "         COUGHING  SHORTNESS OF BREATH  SWALLOWING DIFFICULTY  CHEST PAIN  \n",
       "count  309.000000           309.000000             309.000000  309.000000  \n",
       "mean     1.579288             1.640777               1.469256    1.556634  \n",
       "std      0.494474             0.480551               0.499863    0.497588  \n",
       "min      1.000000             1.000000               1.000000    1.000000  \n",
       "25%      1.000000             1.000000               1.000000    1.000000  \n",
       "50%      2.000000             2.000000               1.000000    2.000000  \n",
       "75%      2.000000             2.000000               2.000000    2.000000  \n",
       "max      2.000000             2.000000               2.000000    2.000000  "
      ]
     },
     "execution_count": 4,
     "metadata": {},
     "output_type": "execute_result"
    }
   ],
   "source": [
    "data.describe()"
   ]
  },
  {
   "cell_type": "markdown",
   "id": "ee5eea1d",
   "metadata": {
    "papermill": {
     "duration": 0.020082,
     "end_time": "2021-11-13T18:56:17.127842",
     "exception": false,
     "start_time": "2021-11-13T18:56:17.107760",
     "status": "completed"
    },
    "tags": []
   },
   "source": [
    "<div  style=\"background-color:w; color:#636363;border:indianred; border-width:2px; border-style:solid;\">\n",
    "\n",
    "   \n",
    "<p ><font size=4><b>Note:</font> </p>\n",
    "<p><font size = 4>\n",
    "There isn't null values in dataset\n",
    "    The data \"GENDER\" and \"LUNG_CANCER\" are objects : transform to numerc values \n",
    "</p>\n",
    "</div>"
   ]
  },
  {
   "cell_type": "markdown",
   "id": "6920aa42",
   "metadata": {
    "papermill": {
     "duration": 0.020065,
     "end_time": "2021-11-13T18:56:17.168180",
     "exception": false,
     "start_time": "2021-11-13T18:56:17.148115",
     "status": "completed"
    },
    "tags": []
   },
   "source": [
    "# <span style=\"color:#32936f;\"> <center>Data Visualization </span>"
   ]
  },
  {
   "cell_type": "code",
   "execution_count": 5,
   "id": "6c077b66",
   "metadata": {
    "execution": {
     "iopub.execute_input": "2021-11-13T18:56:17.213806Z",
     "iopub.status.busy": "2021-11-13T18:56:17.212817Z",
     "iopub.status.idle": "2021-11-13T18:56:19.781159Z",
     "shell.execute_reply": "2021-11-13T18:56:19.781678Z",
     "shell.execute_reply.started": "2021-11-13T18:41:02.689117Z"
    },
    "papermill": {
     "duration": 2.593235,
     "end_time": "2021-11-13T18:56:19.781853",
     "exception": false,
     "start_time": "2021-11-13T18:56:17.188618",
     "status": "completed"
    },
    "tags": []
   },
   "outputs": [
    {
     "data": {
      "text/plain": [
       "array([[<AxesSubplot:title={'center':'AGE'}>,\n",
       "        <AxesSubplot:title={'center':'SMOKING'}>,\n",
       "        <AxesSubplot:title={'center':'YELLOW_FINGERS'}>,\n",
       "        <AxesSubplot:title={'center':'ANXIETY'}>],\n",
       "       [<AxesSubplot:title={'center':'PEER_PRESSURE'}>,\n",
       "        <AxesSubplot:title={'center':'CHRONIC DISEASE'}>,\n",
       "        <AxesSubplot:title={'center':'FATIGUE '}>,\n",
       "        <AxesSubplot:title={'center':'ALLERGY '}>],\n",
       "       [<AxesSubplot:title={'center':'WHEEZING'}>,\n",
       "        <AxesSubplot:title={'center':'ALCOHOL CONSUMING'}>,\n",
       "        <AxesSubplot:title={'center':'COUGHING'}>,\n",
       "        <AxesSubplot:title={'center':'SHORTNESS OF BREATH'}>],\n",
       "       [<AxesSubplot:title={'center':'SWALLOWING DIFFICULTY'}>,\n",
       "        <AxesSubplot:title={'center':'CHEST PAIN'}>, <AxesSubplot:>,\n",
       "        <AxesSubplot:>]], dtype=object)"
      ]
     },
     "execution_count": 5,
     "metadata": {},
     "output_type": "execute_result"
    },
    {
     "data": {
      "image/png": "[encoded data removed]",
      "text/plain": [
       "<Figure size 1800x1800 with 16 Axes>"
      ]
     },
     "metadata": {},
     "output_type": "display_data"
    }
   ],
   "source": [
    "plt.style.use(\"seaborn\")\n",
    "data.hist(figsize=(25,25), bins=15)"
   ]
  },
  {
   "cell_type": "code",
   "execution_count": 6,
   "id": "78027326",
   "metadata": {
    "execution": {
     "iopub.execute_input": "2021-11-13T18:56:19.832506Z",
     "iopub.status.busy": "2021-11-13T18:56:19.831832Z",
     "iopub.status.idle": "2021-11-13T18:56:20.158357Z",
     "shell.execute_reply": "2021-11-13T18:56:20.157863Z",
     "shell.execute_reply.started": "2021-11-13T18:41:05.899411Z"
    },
    "papermill": {
     "duration": 0.353177,
     "end_time": "2021-11-13T18:56:20.158502",
     "exception": false,
     "start_time": "2021-11-13T18:56:19.805325",
     "status": "completed"
    },
    "tags": []
   },
   "outputs": [
    {
     "data": {
      "image/png": "[encoded data removed]",
      "text/plain": [
       "<Figure size 648x648 with 1 Axes>"
      ]
     },
     "metadata": {},
     "output_type": "display_data"
    }
   ],
   "source": [
    "plt.figure(figsize=(9,9))\n",
    "sns.histplot(data[['AGE', 'LUNG_CANCER']], x = \"AGE\", hue=\"LUNG_CANCER\")\n",
    "plt.title(\"\")\n",
    "plt.show()"
   ]
  },
  {
   "cell_type": "code",
   "execution_count": 7,
   "id": "16099297",
   "metadata": {
    "execution": {
     "iopub.execute_input": "2021-11-13T18:56:20.210766Z",
     "iopub.status.busy": "2021-11-13T18:56:20.210097Z",
     "iopub.status.idle": "2021-11-13T18:56:20.545801Z",
     "shell.execute_reply": "2021-11-13T18:56:20.545277Z",
     "shell.execute_reply.started": "2021-11-13T18:41:07.000833Z"
    },
    "papermill": {
     "duration": 0.363236,
     "end_time": "2021-11-13T18:56:20.545952",
     "exception": false,
     "start_time": "2021-11-13T18:56:20.182716",
     "status": "completed"
    },
    "tags": []
   },
   "outputs": [
    {
     "data": {
      "image/png": "[encoded data removed]",
      "text/plain": [
       "<Figure size 648x648 with 1 Axes>"
      ]
     },
     "metadata": {},
     "output_type": "display_data"
    }
   ],
   "source": [
    "plt.figure(figsize=(9,9))\n",
    "sns.histplot(data[['AGE', 'GENDER']], x = \"AGE\", hue=\"GENDER\")\n",
    "plt.title(\"\")\n",
    "plt.show()"
   ]
  },
  {
   "cell_type": "code",
   "execution_count": 8,
   "id": "895ee01a",
   "metadata": {
    "execution": {
     "iopub.execute_input": "2021-11-13T18:56:20.627439Z",
     "iopub.status.busy": "2021-11-13T18:56:20.626673Z",
     "iopub.status.idle": "2021-11-13T18:56:20.829089Z",
     "shell.execute_reply": "2021-11-13T18:56:20.828134Z",
     "shell.execute_reply.started": "2021-11-13T18:41:07.914909Z"
    },
    "papermill": {
     "duration": 0.258785,
     "end_time": "2021-11-13T18:56:20.829244",
     "exception": false,
     "start_time": "2021-11-13T18:56:20.570459",
     "status": "completed"
    },
    "tags": []
   },
   "outputs": [
    {
     "data": {
      "image/png": "[encoded data removed]",
      "text/plain": [
       "<Figure size 648x648 with 1 Axes>"
      ]
     },
     "metadata": {},
     "output_type": "display_data"
    }
   ],
   "source": [
    "plt.style.use(\"seaborn\")\n",
    "plt.figure(figsize=(9,9))\n",
    "sns.histplot(data[['GENDER', 'LUNG_CANCER']], x = \"GENDER\", hue=\"LUNG_CANCER\")\n",
    "plt.title(\"\")\n",
    "plt.show()"
   ]
  },
  {
   "cell_type": "code",
   "execution_count": 9,
   "id": "3cc8c66d",
   "metadata": {
    "execution": {
     "iopub.execute_input": "2021-11-13T18:56:20.909610Z",
     "iopub.status.busy": "2021-11-13T18:56:20.908360Z",
     "iopub.status.idle": "2021-11-13T18:56:21.077677Z",
     "shell.execute_reply": "2021-11-13T18:56:21.077124Z",
     "shell.execute_reply.started": "2021-11-13T18:41:08.823223Z"
    },
    "papermill": {
     "duration": 0.222167,
     "end_time": "2021-11-13T18:56:21.077839",
     "exception": false,
     "start_time": "2021-11-13T18:56:20.855672",
     "status": "completed"
    },
    "tags": []
   },
   "outputs": [
    {
     "data": {
      "image/png": "[encoded data removed]",
      "text/plain": [
       "<Figure size 1080x576 with 1 Axes>"
      ]
     },
     "metadata": {},
     "output_type": "display_data"
    }
   ],
   "source": [
    "plt.style.use(\"seaborn\")\n",
    "plt.figure(figsize=(15,8))\n",
    "plt.title(\"Genders\", fontsize=20, y=1.02)\n",
    "sns.countplot(x = data.GENDER ,palette=\"crest\")\n",
    "plt.show()"
   ]
  },
  {
   "cell_type": "markdown",
   "id": "51ae1609",
   "metadata": {
    "papermill": {
     "duration": 0.025672,
     "end_time": "2021-11-13T18:56:21.130411",
     "exception": false,
     "start_time": "2021-11-13T18:56:21.104739",
     "status": "completed"
    },
    "tags": []
   },
   "source": [
    "# <span style=\"color:#32936f;\"> <center>Data Tratament </span>"
   ]
  },
  {
   "cell_type": "markdown",
   "id": "ede79e6c",
   "metadata": {
    "papermill": {
     "duration": 0.025464,
     "end_time": "2021-11-13T18:56:21.181918",
     "exception": false,
     "start_time": "2021-11-13T18:56:21.156454",
     "status": "completed"
    },
    "tags": []
   },
   "source": [
    "<div  style=\"background-color:w; color:#636363;border:indianred; border-width:2px; border-style:solid;\">\n",
    "\n",
    "   \n",
    "<p ><font size=4><b>Note:</font> </p>\n",
    "<p><font size = 4>\n",
    "There are some columns where the values are object, we need transform this values in numerical \n",
    "</p>\n",
    "</div>"
   ]
  },
  {
   "cell_type": "code",
   "execution_count": 10,
   "id": "ec1243d4",
   "metadata": {
    "execution": {
     "iopub.execute_input": "2021-11-13T18:56:21.238142Z",
     "iopub.status.busy": "2021-11-13T18:56:21.237119Z",
     "iopub.status.idle": "2021-11-13T18:56:21.243849Z",
     "shell.execute_reply": "2021-11-13T18:56:21.244316Z",
     "shell.execute_reply.started": "2021-11-13T18:41:12.190374Z"
    },
    "papermill": {
     "duration": 0.036716,
     "end_time": "2021-11-13T18:56:21.244516",
     "exception": false,
     "start_time": "2021-11-13T18:56:21.207800",
     "status": "completed"
    },
    "tags": []
   },
   "outputs": [],
   "source": [
    "data[\"GENDER\"] = data[\"GENDER\"].map({\"F\": 0, \"M\": 1})\n",
    "data['LUNG_CANCER']= data['LUNG_CANCER'].map({'NO':0, \"YES\":1})"
   ]
  },
  {
   "cell_type": "code",
   "execution_count": 11,
   "id": "5bf3bf10",
   "metadata": {
    "execution": {
     "iopub.execute_input": "2021-11-13T18:56:21.311088Z",
     "iopub.status.busy": "2021-11-13T18:56:21.310339Z",
     "iopub.status.idle": "2021-11-13T18:56:21.313477Z",
     "shell.execute_reply": "2021-11-13T18:56:21.313947Z",
     "shell.execute_reply.started": "2021-11-13T18:41:13.214678Z"
    },
    "papermill": {
     "duration": 0.043185,
     "end_time": "2021-11-13T18:56:21.314117",
     "exception": false,
     "start_time": "2021-11-13T18:56:21.270932",
     "status": "completed"
    },
    "tags": []
   },
   "outputs": [
    {
     "name": "stdout",
     "output_type": "stream",
     "text": [
      "<class 'pandas.core.frame.DataFrame'>\n",
      "RangeIndex: 309 entries, 0 to 308\n",
      "Data columns (total 16 columns):\n",
      " #   Column                 Non-Null Count  Dtype\n",
      "---  ------                 --------------  -----\n",
      " 0   GENDER                 309 non-null    int64\n",
      " 1   AGE                    309 non-null    int64\n",
      " 2   SMOKING                309 non-null    int64\n",
      " 3   YELLOW_FINGERS         309 non-null    int64\n",
      " 4   ANXIETY                309 non-null    int64\n",
      " 5   PEER_PRESSURE          309 non-null    int64\n",
      " 6   CHRONIC DISEASE        309 non-null    int64\n",
      " 7   FATIGUE                309 non-null    int64\n",
      " 8   ALLERGY                309 non-null    int64\n",
      " 9   WHEEZING               309 non-null    int64\n",
      " 10  ALCOHOL CONSUMING      309 non-null    int64\n",
      " 11  COUGHING               309 non-null    int64\n",
      " 12  SHORTNESS OF BREATH    309 non-null    int64\n",
      " 13  SWALLOWING DIFFICULTY  309 non-null    int64\n",
      " 14  CHEST PAIN             309 non-null    int64\n",
      " 15  LUNG_CANCER            309 non-null    int64\n",
      "dtypes: int64(16)\n",
      "memory usage: 38.8 KB\n"
     ]
    }
   ],
   "source": [
    "data.info()"
   ]
  },
  {
   "cell_type": "markdown",
   "id": "97621273",
   "metadata": {
    "papermill": {
     "duration": 0.025985,
     "end_time": "2021-11-13T18:56:21.365961",
     "exception": false,
     "start_time": "2021-11-13T18:56:21.339976",
     "status": "completed"
    },
    "tags": []
   },
   "source": [
    "# <span style=\"color:#32936f;\"> Splitting the data </span>"
   ]
  },
  {
   "cell_type": "code",
   "execution_count": 12,
   "id": "f3de5f62",
   "metadata": {
    "execution": {
     "iopub.execute_input": "2021-11-13T18:56:21.422274Z",
     "iopub.status.busy": "2021-11-13T18:56:21.421338Z",
     "iopub.status.idle": "2021-11-13T18:56:21.426461Z",
     "shell.execute_reply": "2021-11-13T18:56:21.426939Z",
     "shell.execute_reply.started": "2021-11-13T18:41:19.480473Z"
    },
    "papermill": {
     "duration": 0.035097,
     "end_time": "2021-11-13T18:56:21.427264",
     "exception": false,
     "start_time": "2021-11-13T18:56:21.392167",
     "status": "completed"
    },
    "tags": []
   },
   "outputs": [],
   "source": [
    "# X data \n",
    "X = data.drop(\"LUNG_CANCER\", axis = 1)"
   ]
  },
  {
   "cell_type": "code",
   "execution_count": 13,
   "id": "c7c28074",
   "metadata": {
    "execution": {
     "iopub.execute_input": "2021-11-13T18:56:21.483657Z",
     "iopub.status.busy": "2021-11-13T18:56:21.482701Z",
     "iopub.status.idle": "2021-11-13T18:56:21.488666Z",
     "shell.execute_reply": "2021-11-13T18:56:21.489062Z",
     "shell.execute_reply.started": "2021-11-13T18:41:21.114040Z"
    },
    "papermill": {
     "duration": 0.03559,
     "end_time": "2021-11-13T18:56:21.489269",
     "exception": false,
     "start_time": "2021-11-13T18:56:21.453679",
     "status": "completed"
    },
    "tags": []
   },
   "outputs": [
    {
     "data": {
      "text/plain": [
       "0    1\n",
       "1    1\n",
       "2    0\n",
       "3    0\n",
       "4    0\n",
       "Name: LUNG_CANCER, dtype: int64"
      ]
     },
     "execution_count": 13,
     "metadata": {},
     "output_type": "execute_result"
    }
   ],
   "source": [
    "# y data \n",
    "y = data[\"LUNG_CANCER\"]\n",
    "y.head()"
   ]
  },
  {
   "cell_type": "code",
   "execution_count": 14,
   "id": "f2e3df53",
   "metadata": {
    "execution": {
     "iopub.execute_input": "2021-11-13T18:56:21.545848Z",
     "iopub.status.busy": "2021-11-13T18:56:21.544875Z",
     "iopub.status.idle": "2021-11-13T18:56:21.548034Z",
     "shell.execute_reply": "2021-11-13T18:56:21.548465Z",
     "shell.execute_reply.started": "2021-11-13T18:41:24.533684Z"
    },
    "papermill": {
     "duration": 0.033164,
     "end_time": "2021-11-13T18:56:21.548644",
     "exception": false,
     "start_time": "2021-11-13T18:56:21.515480",
     "status": "completed"
    },
    "tags": []
   },
   "outputs": [],
   "source": [
    "#x_train, x_test, y_train, y_test = train_test_split (X, y , test_size = 0.2, random_state = 35)"
   ]
  },
  {
   "cell_type": "code",
   "execution_count": 15,
   "id": "a3a07956",
   "metadata": {
    "execution": {
     "iopub.execute_input": "2021-11-13T18:56:21.605038Z",
     "iopub.status.busy": "2021-11-13T18:56:21.604145Z",
     "iopub.status.idle": "2021-11-13T18:56:21.606996Z",
     "shell.execute_reply": "2021-11-13T18:56:21.607389Z",
     "shell.execute_reply.started": "2021-11-13T18:41:25.557657Z"
    },
    "papermill": {
     "duration": 0.032642,
     "end_time": "2021-11-13T18:56:21.607570",
     "exception": false,
     "start_time": "2021-11-13T18:56:21.574928",
     "status": "completed"
    },
    "tags": []
   },
   "outputs": [],
   "source": [
    "#len(x_test), len(x_train)"
   ]
  },
  {
   "cell_type": "markdown",
   "id": "699fcce1",
   "metadata": {
    "papermill": {
     "duration": 0.026556,
     "end_time": "2021-11-13T18:56:21.660980",
     "exception": false,
     "start_time": "2021-11-13T18:56:21.634424",
     "status": "completed"
    },
    "tags": []
   },
   "source": [
    "# <span style=\"color:#32936f;\"> Scaling the data </span>"
   ]
  },
  {
   "cell_type": "code",
   "execution_count": 16,
   "id": "dd5143e3",
   "metadata": {
    "execution": {
     "iopub.execute_input": "2021-11-13T18:56:21.718297Z",
     "iopub.status.busy": "2021-11-13T18:56:21.717332Z",
     "iopub.status.idle": "2021-11-13T18:56:22.068310Z",
     "shell.execute_reply": "2021-11-13T18:56:22.068767Z",
     "shell.execute_reply.started": "2021-11-13T18:41:34.484512Z"
    },
    "papermill": {
     "duration": 0.381247,
     "end_time": "2021-11-13T18:56:22.068928",
     "exception": false,
     "start_time": "2021-11-13T18:56:21.687681",
     "status": "completed"
    },
    "tags": []
   },
   "outputs": [
    {
     "data": {
      "image/png": "[encoded data removed]",
      "text/plain": [
       "<Figure size 1440x576 with 1 Axes>"
      ]
     },
     "metadata": {},
     "output_type": "display_data"
    }
   ],
   "source": [
    "plt.figure(figsize=(20,8))\n",
    "plt.title(\"Data before Scaling\", fontsize = 20, y=1.0)\n",
    "sns.boxenplot(data=X)\n",
    "plt.show()"
   ]
  },
  {
   "cell_type": "code",
   "execution_count": 17,
   "id": "85514f71",
   "metadata": {
    "execution": {
     "iopub.execute_input": "2021-11-13T18:56:22.132512Z",
     "iopub.status.busy": "2021-11-13T18:56:22.131534Z",
     "iopub.status.idle": "2021-11-13T18:56:22.136389Z",
     "shell.execute_reply": "2021-11-13T18:56:22.136994Z",
     "shell.execute_reply.started": "2021-11-13T18:41:35.960267Z"
    },
    "papermill": {
     "duration": 0.040367,
     "end_time": "2021-11-13T18:56:22.137167",
     "exception": false,
     "start_time": "2021-11-13T18:56:22.096800",
     "status": "completed"
    },
    "tags": []
   },
   "outputs": [],
   "source": [
    "# Scaling data:\n",
    "scaler = StandardScaler()\n",
    "X_scaled = scaler.fit_transform(X)\n",
    "#x_test = scaler.transform(x_test)"
   ]
  },
  {
   "cell_type": "code",
   "execution_count": 18,
   "id": "97d2f015",
   "metadata": {
    "execution": {
     "iopub.execute_input": "2021-11-13T18:56:22.197119Z",
     "iopub.status.busy": "2021-11-13T18:56:22.196061Z",
     "iopub.status.idle": "2021-11-13T18:56:22.549272Z",
     "shell.execute_reply": "2021-11-13T18:56:22.548672Z",
     "shell.execute_reply.started": "2021-11-13T18:41:39.551372Z"
    },
    "papermill": {
     "duration": 0.384326,
     "end_time": "2021-11-13T18:56:22.549534",
     "exception": false,
     "start_time": "2021-11-13T18:56:22.165208",
     "status": "completed"
    },
    "tags": []
   },
   "outputs": [
    {
     "data": {
      "image/png": "[encoded data removed]",
      "text/plain": [
       "<Figure size 1440x576 with 1 Axes>"
      ]
     },
     "metadata": {},
     "output_type": "display_data"
    }
   ],
   "source": [
    "plt.figure(figsize=(20,8))\n",
    "plt.title(\"Data after Scaling\", fontsize = 20, y=1.0)\n",
    "sns.boxenplot(data=X_scaled)\n",
    "plt.show()"
   ]
  },
  {
   "cell_type": "markdown",
   "id": "d0ba16d7",
   "metadata": {
    "execution": {
     "iopub.execute_input": "2021-11-13T18:21:54.426492Z",
     "iopub.status.busy": "2021-11-13T18:21:54.425665Z",
     "iopub.status.idle": "2021-11-13T18:21:54.434983Z",
     "shell.execute_reply": "2021-11-13T18:21:54.433973Z",
     "shell.execute_reply.started": "2021-11-13T18:21:54.426447Z"
    },
    "papermill": {
     "duration": 0.029061,
     "end_time": "2021-11-13T18:56:22.612815",
     "exception": false,
     "start_time": "2021-11-13T18:56:22.583754",
     "status": "completed"
    },
    "tags": []
   },
   "source": [
    "# X_scaled\n",
    "#np.savetxt(r'c:\\data\\np.txt', df.values, fmt='%d')\n",
    "X_scaled.to_csv('LungCancerPrediction.csv',index=False)"
   ]
  },
  {
   "cell_type": "code",
   "execution_count": 19,
   "id": "a9c40d65",
   "metadata": {
    "execution": {
     "iopub.execute_input": "2021-11-13T18:56:22.676860Z",
     "iopub.status.busy": "2021-11-13T18:56:22.675925Z",
     "iopub.status.idle": "2021-11-13T18:56:22.683402Z",
     "shell.execute_reply": "2021-11-13T18:56:22.684822Z",
     "shell.execute_reply.started": "2021-11-13T18:41:56.996181Z"
    },
    "papermill": {
     "duration": 0.043786,
     "end_time": "2021-11-13T18:56:22.685041",
     "exception": false,
     "start_time": "2021-11-13T18:56:22.641255",
     "status": "completed"
    },
    "tags": []
   },
   "outputs": [],
   "source": [
    "type(X_scaled)\n",
    "import numpy as np\n",
    "np.savetxt('test.csv', X_scaled, delimiter=',') \n",
    "#X_scaled.to_csv('submission.csv', index=False)\n",
    "#X_scaled.to_csv('LungCancerPrediction.csv',index=False)"
   ]
  },
  {
   "cell_type": "markdown",
   "id": "d5a1b39f",
   "metadata": {
    "papermill": {
     "duration": 0.027845,
     "end_time": "2021-11-13T18:56:22.742296",
     "exception": false,
     "start_time": "2021-11-13T18:56:22.714451",
     "status": "completed"
    },
    "tags": []
   },
   "source": [
    "# <span style=\"color:#32936f;\"> Spot Checking </span>"
   ]
  },
  {
   "cell_type": "code",
   "execution_count": 20,
   "id": "333a49c8",
   "metadata": {
    "execution": {
     "iopub.execute_input": "2021-11-13T18:56:22.805335Z",
     "iopub.status.busy": "2021-11-13T18:56:22.804238Z",
     "iopub.status.idle": "2021-11-13T18:56:22.807066Z",
     "shell.execute_reply": "2021-11-13T18:56:22.806524Z",
     "shell.execute_reply.started": "2021-10-21T12:14:20.176028Z"
    },
    "papermill": {
     "duration": 0.036627,
     "end_time": "2021-11-13T18:56:22.807206",
     "exception": false,
     "start_time": "2021-11-13T18:56:22.770579",
     "status": "completed"
    },
    "tags": []
   },
   "outputs": [],
   "source": [
    "from warnings import filterwarnings\n"
   ]
  },
  {
   "cell_type": "code",
   "execution_count": 21,
   "id": "1cca6eb8",
   "metadata": {
    "execution": {
     "iopub.execute_input": "2021-11-13T18:56:22.870824Z",
     "iopub.status.busy": "2021-11-13T18:56:22.869859Z",
     "iopub.status.idle": "2021-11-13T18:56:22.873900Z",
     "shell.execute_reply": "2021-11-13T18:56:22.874438Z",
     "shell.execute_reply.started": "2021-10-21T12:14:20.196936Z"
    },
    "papermill": {
     "duration": 0.037119,
     "end_time": "2021-11-13T18:56:22.874631",
     "exception": false,
     "start_time": "2021-11-13T18:56:22.837512",
     "status": "completed"
    },
    "tags": []
   },
   "outputs": [],
   "source": [
    "filterwarnings('ignore')"
   ]
  },
  {
   "cell_type": "code",
   "execution_count": 22,
   "id": "b107f8e2",
   "metadata": {
    "execution": {
     "iopub.execute_input": "2021-11-13T18:56:22.935497Z",
     "iopub.status.busy": "2021-11-13T18:56:22.934512Z",
     "iopub.status.idle": "2021-11-13T18:56:23.065315Z",
     "shell.execute_reply": "2021-11-13T18:56:23.063701Z",
     "shell.execute_reply.started": "2021-10-21T12:14:20.226634Z"
    },
    "papermill": {
     "duration": 0.162816,
     "end_time": "2021-11-13T18:56:23.065815",
     "exception": true,
     "start_time": "2021-11-13T18:56:22.902999",
     "status": "failed"
    },
    "tags": []
   },
   "outputs": [
    {
     "ename": "NameError",
     "evalue": "name 'x_train' is not defined",
     "output_type": "error",
     "traceback": [
      "\u001b[0;31m---------------------------------------------------------------------------\u001b[0m",
      "\u001b[0;31mNameError\u001b[0m                                 Traceback (most recent call last)",
      "\u001b[0;32m/tmp/ipykernel_20/1373657381.py\u001b[0m in \u001b[0;36m<module>\u001b[0;34m\u001b[0m\n\u001b[1;32m     21\u001b[0m \u001b[0;34m\u001b[0m\u001b[0m\n\u001b[1;32m     22\u001b[0m \u001b[0;32mfor\u001b[0m \u001b[0mname\u001b[0m\u001b[0;34m,\u001b[0m \u001b[0mmodel\u001b[0m \u001b[0;32min\u001b[0m \u001b[0mmodels\u001b[0m\u001b[0;34m:\u001b[0m\u001b[0;34m\u001b[0m\u001b[0;34m\u001b[0m\u001b[0m\n\u001b[0;32m---> 23\u001b[0;31m     \u001b[0mmodel\u001b[0m\u001b[0;34m.\u001b[0m\u001b[0mfit\u001b[0m\u001b[0;34m(\u001b[0m\u001b[0mx_train\u001b[0m\u001b[0;34m,\u001b[0m \u001b[0my_train\u001b[0m\u001b[0;34m)\u001b[0m\u001b[0;34m\u001b[0m\u001b[0;34m\u001b[0m\u001b[0m\n\u001b[0m\u001b[1;32m     24\u001b[0m     \u001b[0mmodel_results\u001b[0m \u001b[0;34m=\u001b[0m \u001b[0mmodel\u001b[0m\u001b[0;34m.\u001b[0m\u001b[0mpredict\u001b[0m\u001b[0;34m(\u001b[0m\u001b[0mx_test\u001b[0m\u001b[0;34m)\u001b[0m\u001b[0;34m\u001b[0m\u001b[0;34m\u001b[0m\u001b[0m\n\u001b[1;32m     25\u001b[0m     \u001b[0mscore\u001b[0m\u001b[0;34m=\u001b[0m \u001b[0mprecision_score\u001b[0m\u001b[0;34m(\u001b[0m\u001b[0my_test\u001b[0m\u001b[0;34m,\u001b[0m \u001b[0mmodel_results\u001b[0m\u001b[0;34m,\u001b[0m \u001b[0maverage\u001b[0m\u001b[0;34m=\u001b[0m\u001b[0;34m'macro'\u001b[0m\u001b[0;34m)\u001b[0m\u001b[0;34m\u001b[0m\u001b[0;34m\u001b[0m\u001b[0m\n",
      "\u001b[0;31mNameError\u001b[0m: name 'x_train' is not defined"
     ]
    }
   ],
   "source": [
    "models = [(\"LR\", LogisticRegression(max_iter=1000)),\n",
    "          (\"SVC\", SVC()),\n",
    "          (\"KNC\", KNeighborsClassifier(n_neighbors=10)),\n",
    "          (\"DTC\", DecisionTreeClassifier()),\n",
    "          (\"GNB\", GaussianNB()),\n",
    "         (\"SGDC\", SGDClassifier()),\n",
    "         (\"Perc\", Perceptron()),\n",
    "          (\"NC\", NearestCentroid()),\n",
    "          (\"Ridge\", RidgeClassifier()),\n",
    "          (\"BNB\", BernoulliNB()),\n",
    "          (\"RF\", RandomForestClassifier()),\n",
    "          (\"ADA\", AdaBoostClassifier()),\n",
    "          (\"XGB\", GradientBoostingClassifier()),\n",
    "          (\"PAC\", PassiveAggressiveClassifier()) \n",
    "    \n",
    "]\n",
    "\n",
    "results = []\n",
    "names=[]\n",
    "finalresults=[]\n",
    "\n",
    "for name, model in models:\n",
    "    model.fit(x_train, y_train)\n",
    "    model_results = model.predict(x_test)\n",
    "    score= precision_score(y_test, model_results, average='macro')\n",
    "    results.append(score)\n",
    "    names.append(name)\n",
    "    finalresults.append((name,score))"
   ]
  },
  {
   "cell_type": "code",
   "execution_count": null,
   "id": "65f8cc68",
   "metadata": {
    "execution": {
     "iopub.execute_input": "2021-10-21T12:14:20.656897Z",
     "iopub.status.busy": "2021-10-21T12:14:20.656639Z",
     "iopub.status.idle": "2021-10-21T12:14:20.665262Z",
     "shell.execute_reply": "2021-10-21T12:14:20.664115Z",
     "shell.execute_reply.started": "2021-10-21T12:14:20.656866Z"
    },
    "papermill": {
     "duration": null,
     "end_time": null,
     "exception": null,
     "start_time": null,
     "status": "pending"
    },
    "tags": []
   },
   "outputs": [],
   "source": [
    "finalresults.sort(key=lambda k:k[1], reverse=True)\n",
    "finalresults"
   ]
  },
  {
   "cell_type": "markdown",
   "id": "74a2e7b3",
   "metadata": {
    "papermill": {
     "duration": null,
     "end_time": null,
     "exception": null,
     "start_time": null,
     "status": "pending"
    },
    "tags": []
   },
   "source": [
    "# <span style=\"color:#32936f;\"> Hiperparameter Tuning </span>"
   ]
  },
  {
   "cell_type": "code",
   "execution_count": null,
   "id": "7ecffa23",
   "metadata": {
    "execution": {
     "iopub.execute_input": "2021-10-21T12:18:07.788751Z",
     "iopub.status.busy": "2021-10-21T12:18:07.787751Z",
     "iopub.status.idle": "2021-10-21T12:29:34.06282Z",
     "shell.execute_reply": "2021-10-21T12:29:34.06185Z",
     "shell.execute_reply.started": "2021-10-21T12:18:07.788682Z"
    },
    "papermill": {
     "duration": null,
     "end_time": null,
     "exception": null,
     "start_time": null,
     "status": "pending"
    },
    "tags": []
   },
   "outputs": [],
   "source": [
    "# Grid search and space:\n",
    "models_params= {\n",
    "    \"RF\":{'model':RandomForestClassifier(),\n",
    "         'params':{\n",
    "             'max_features': list(range(1,10)),\n",
    "             'n_estimators':[10,100,1000]\n",
    "         }}}\n",
    "\n",
    "# Evaluation:\n",
    "\n",
    "cv = RepeatedStratifiedKFold(n_splits=5,n_repeats=20)\n",
    "\n",
    "# Search:\n",
    "scores=[]\n",
    "\n",
    "for model_name, params in models_params.items(): \n",
    "    rs = RandomizedSearchCV(params['model'], params['params'], cv=cv , n_iter=10)\n",
    "    rs.fit(x_train,y_train)\n",
    "    scores.append([model_name,dict(rs.best_params_),rs.best_score_])\n",
    "data=pd.DataFrame(scores,columns=['Model','Parameters','Score'])\n",
    "data"
   ]
  }
 ],
 "metadata": {
  "kernelspec": {
   "display_name": "Python 3",
   "language": "python",
   "name": "python3"
  },
  "language_info": {
   "codemirror_mode": {
    "name": "ipython",
    "version": 3
   },
   "file_extension": ".py",
   "mimetype": "text/x-python",
   "name": "python",
   "nbconvert_exporter": "python",
   "pygments_lexer": "ipython3",
   "version": "3.9.5"
  },
  "papermill": {
   "default_parameters": {},
   "duration": 18.531259,
   "end_time": "2021-11-13T18:56:24.069760",
   "environment_variables": {},
   "exception": true,
   "input_path": "__notebook__.ipynb",
   "output_path": "__notebook__.ipynb",
   "parameters": {},
   "start_time": "2021-11-13T18:56:05.538501",
   "version": "2.3.3"
  }
 },
 "nbformat": 4,
 "nbformat_minor": 5
}
